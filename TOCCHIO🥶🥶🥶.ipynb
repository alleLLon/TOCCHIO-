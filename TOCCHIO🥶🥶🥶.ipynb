{
 "cells": [
  {
   "cell_type": "code",
   "execution_count": 60,
   "metadata": {},
   "outputs": [
    {
     "name": "stdout",
     "output_type": "stream",
     "text": [
      "[ 0  0  0  0  0  0  0  0  0 -6  0  6  0  0  0  0]\n"
     ]
    }
   ],
   "source": [
    "import numpy as np\n",
    "import matplotlib.pyplot as plt\n",
    "from random import randint\n",
    "np.random.seed()\n",
    "\n",
    "def jastrow(x,g,v):\n",
    "    s = 0\n",
    "    for i in range(int(len(x)/2)):\n",
    "        s+= (-g) * abs(x[2*i]*x[2*i+1])\n",
    "        if i!= (len(x)/2-1):\n",
    "            s+= (-v) * (abs(x[2*i])+abs(x[2*i+1]))*(abs(x[2*i+2])+abs(x[2*i+3]))\n",
    "    return s\n",
    "\n",
    "    \n",
    "def monte(x,L):\n",
    "    random = randint(0, 1)*L\n",
    "    swap_random_1 = randint(0, int(L/4)-1)\n",
    "    swap_random_2 = randint(int(L/4), int(3*L/4)-1)\n",
    "    a = x[swap_random_1+int(random)]\n",
    "    x[swap_random_1+int(random)] = x[swap_random_2+int(random)]\n",
    "    x[swap_random_2+int(random)] = a\n",
    "    \n",
    "    return x\n",
    "        \n",
    "\n",
    "def ground(n):\n",
    "    L = int(8*n+4)\n",
    "    x = np.zeros(2*L,dtype=int)\n",
    "    for i in range(int(L/2)):\n",
    "        x[2*i+1] = 1\n",
    "        x[2*(i+int(L/2))+1] = 1\n",
    "    U = np.zeros((2*L, L),dtype=np.complex_)\n",
    "    print(x)\n",
    "    for i in range(2*L):\n",
    "        for k in range(L):\n",
    "            I = (i + i % L)\n",
    "            N = (k + k % (L/2)) - 1\n",
    "            U[i,k] = np.exp(-complex(0,1)*2*np.pi/L*I*N)\n",
    "            print(np.exp(-complex(0,1)*2*np.pi/L*I*N))\n",
    "    return U\n",
    "\n",
    "X = [1,2,3,4,5,6,7,8,7,8,1,2,3,4,5,6]\n",
    "y=[1,2,3,4,5,6,7,8,7,8,1,2,3,4,5,6]\n",
    "x_new = monte(X,8)\n",
    "print (np.array(x_new)-np.array(y))\n",
    "\n"
   ]
  },
  {
   "cell_type": "code",
   "execution_count": 169,
   "metadata": {},
   "outputs": [
    {
     "name": "stdout",
     "output_type": "stream",
     "text": [
      "[0 1 0 1 0 1 0 1 0 1 0 1 0 1 0 1 0 1 0 1 0 1 0 1]\n",
      "[0 1 0 1 0 1 0 1 0 1 0 1 1 1 0 1 0 1 0 1 0 0 0 1]\n"
     ]
    }
   ],
   "source": [
    "import numpy as np\n",
    "import matplotlib.pyplot as plt\n",
    "from random import randint\n",
    "np.random.seed()\n",
    "\n",
    "def ground(n):\n",
    "    L = int(8*n+4)\n",
    "    x = np.zeros(2*L,dtype=int)\n",
    "    for i in range(int(L/2)):\n",
    "        x[2*i+1] = 1\n",
    "        x[2*(i+int(L/2))+1] = 1\n",
    "    U = np.zeros((2*L, L),dtype=np.complex_)\n",
    "    for i in range(2*L):\n",
    "        for k in range(L):\n",
    "            I = (i + i % L)\n",
    "            N = (k + k % (L/2)) - 1\n",
    "            U[i,k] = np.exp(-complex(0,1)*2*np.pi/L*I*N)\n",
    "    return x\n",
    "\n",
    "def monte(x, L):\n",
    "    random = randint(0, 1)*L\n",
    "    swap = [randint(0, L-1) for i in range(0,2)]\n",
    "    x_new = x[:]\n",
    "    x_new[swap[0]+random], x_new[swap[1]+random] = x_new[swap[1]+random], x_new[swap[0]+random]\n",
    "    return x_new\n",
    "    \n",
    "    \n",
    "x = ground(1)\n",
    "print(x)\n",
    "y = monte(x,12)\n",
    "print(y)"
   ]
  },
  {
   "cell_type": "code",
   "execution_count": 155,
   "metadata": {},
   "outputs": [
    {
     "data": {
      "text/plain": [
       "[4, 10]"
      ]
     },
     "execution_count": 155,
     "metadata": {},
     "output_type": "execute_result"
    }
   ],
   "source": [
    "[randint(0, int(12)-1) for i in range(0,2)]\n"
   ]
  }
 ],
 "metadata": {
  "kernelspec": {
   "display_name": "Python 3",
   "language": "python",
   "name": "python3"
  },
  "language_info": {
   "codemirror_mode": {
    "name": "ipython",
    "version": 3
   },
   "file_extension": ".py",
   "mimetype": "text/x-python",
   "name": "python",
   "nbconvert_exporter": "python",
   "pygments_lexer": "ipython3",
   "version": "3.9.4"
  }
 },
 "nbformat": 4,
 "nbformat_minor": 4
}
