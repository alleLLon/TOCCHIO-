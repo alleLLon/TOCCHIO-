{
 "cells": [
  {
   "cell_type": "code",
   "execution_count": 35,
   "metadata": {},
   "outputs": [
    {
     "name": "stdout",
     "output_type": "stream",
     "text": [
      "[[ 1.+0.00000000e+00j  1.+0.00000000e+00j  1.+0.00000000e+00j\n",
      "   1.+0.00000000e+00j]\n",
      " [-1.+1.22464680e-16j -1.-1.22464680e-16j -1.-1.22464680e-16j\n",
      "  -1.-3.67394040e-16j]\n",
      " [ 1.-2.44929360e-16j  1.+2.44929360e-16j  1.+2.44929360e-16j\n",
      "   1.+7.34788079e-16j]\n",
      " [-1.+3.67394040e-16j -1.-3.67394040e-16j -1.-3.67394040e-16j\n",
      "  -1.-1.10218212e-15j]\n",
      " [ 1.-2.44929360e-16j  1.+2.44929360e-16j  1.+2.44929360e-16j\n",
      "   1.+7.34788079e-16j]\n",
      " [-1.+3.67394040e-16j -1.-3.67394040e-16j -1.-3.67394040e-16j\n",
      "  -1.-1.10218212e-15j]\n",
      " [ 1.-4.89858720e-16j  1.+4.89858720e-16j  1.+4.89858720e-16j\n",
      "   1.+1.46957616e-15j]\n",
      " [-1.+6.12323400e-16j -1.-6.12323400e-16j -1.-6.12323400e-16j\n",
      "  -1.-5.38968388e-15j]]\n"
     ]
    },
    {
     "data": {
      "application/vnd.jupyter.widget-view+json": {
       "model_id": "29e8af92acb64c9882354916a169ad35",
       "version_major": 2,
       "version_minor": 0
      },
      "text/plain": [
       "Canvas(toolbar=Toolbar(toolitems=[('Home', 'Reset original view', 'home', 'home'), ('Back', 'Back to previous …"
      ]
     },
     "metadata": {},
     "output_type": "display_data"
    }
   ],
   "source": [
    "import numpy as np\n",
    "import matplotlib.pyplot as plt\n",
    "from random import randint\n",
    "import random\n",
    "%matplotlib widget\n",
    "\n",
    "np.random.seed()\n",
    "\n",
    "def jastrow(x,g,v):\n",
    "    s = 0\n",
    "    L = int(len(x)/2)\n",
    "    for i in range(L-1):\n",
    "        s += g*x[i]*x[i+L] + v*(x[i]+x[i+L])*(x[i+1]+x[i+1+L])\n",
    "    s += g*x[L-1]*x[2*L-1] + v*(x[L-1]+x[2*L-1])*(x[0]+x[L-1])\n",
    "    return np.exp(-s)\n",
    "\n",
    "def ground(n):\n",
    "    L = int(8*n+4)\n",
    "    x = np.zeros(2*L,dtype=int)\n",
    "    for i in range(int(L/2)):\n",
    "        x[2*i+1] = 1\n",
    "        x[2*(i+int(L/2))+1] = 1\n",
    "    return x\n",
    "\n",
    "def monte(x, L, g, v):\n",
    "    random = randint(0, 1)*L\n",
    "    swap = [randint(0, L-1) for i in range(0,2)]\n",
    "    x_new = x[:]\n",
    "    if x_new[swap[0]+random]!=x_new[swap[1]+random]:\n",
    "        x_new[swap[0]+random], x_new[swap[1]+random] = x_new[swap[1]+random], x_new[swap[0]+random]\n",
    "        old_jastr = jastrow(x, g, v)\n",
    "        new_jastr = jastrow(x_new,g,v)\n",
    "        index_old = []\n",
    "        index_new = []\n",
    "        for i in range(2*L):\n",
    "            if x[i] == 1:\n",
    "                index_old.append(i)\n",
    "            if x_new[i] == 1:\n",
    "                index_new.append(i)\n",
    "        old_U = U[index_old]\n",
    "        new_U = U[index_new]\n",
    "        prob = (np.abs(np.linalg.det(new_U))/np.abs(np.linalg.det(old_U))*new_jastr/old_jastr)**2\n",
    "        acceptance = min(1,prob)\n",
    "        if acceptance == 1:\n",
    "            return x_new\n",
    "        else:\n",
    "            y = np.random.uniform(0, 1)\n",
    "            if y<=acceptance:\n",
    "                return x_new\n",
    "            else:\n",
    "                return x\n",
    "    return x\n",
    "\n",
    "n = 0\n",
    "L = int(8*n+4)\n",
    "U = np.zeros((2*L, L),dtype=np.complex_)\n",
    "for i in range(2*L):\n",
    "    for k in range(L):\n",
    "        I = (i + i % L)\n",
    "        N = (k + k % (L/2)) - 1\n",
    "        U[i,k] = np.exp(-complex(0,1)*2*np.pi/L*I*N)    \n",
    "\n",
    "x = ground(n)\n",
    "print(U)\n",
    "density_A = 0\n",
    "Density_A = []\n",
    "density_B = 0\n",
    "Density_B = []\n",
    "for i in range(0):\n",
    "    x = monte(x,L,10,0)\n",
    "    for j in range(int(L/2)):\n",
    "        density_A+=2/L*(x[int(2*j)]+x[int(2*j+L)])\n",
    "        Density_A.append(density_A/(i+1))\n",
    "        density_B+=2/L*(x[int(2*j+1)]+x[int(2*j+1+L)])\n",
    "        Density_B.append(density_B/(i+1))\n",
    "plt.figure()      \n",
    "plt.plot(Density_A)\n",
    "plt.plot(Density_B)\n",
    "plt.show()\n",
    "\n",
    "    "
   ]
  },
  {
   "cell_type": "code",
   "execution_count": 3,
   "metadata": {},
   "outputs": [
    {
     "data": {
      "application/vnd.jupyter.widget-view+json": {
       "model_id": "b384b6be4d1243b3b0bd5956ca5a4c5b",
       "version_major": 2,
       "version_minor": 0
      },
      "text/plain": [
       "Canvas(toolbar=Toolbar(toolitems=[('Home', 'Reset original view', 'home', 'home'), ('Back', 'Back to previous …"
      ]
     },
     "metadata": {},
     "output_type": "display_data"
    },
    {
     "data": {
      "text/plain": [
       "[<matplotlib.lines.Line2D at 0x1194b7340>]"
      ]
     },
     "execution_count": 3,
     "metadata": {},
     "output_type": "execute_result"
    }
   ],
   "source": [
    "x = [1,2,3,4]\n",
    "%matplotlib widget\n",
    "plt.figure()\n",
    "plt.plot(x)\n"
   ]
  }
 ],
 "metadata": {
  "kernelspec": {
   "display_name": "Python 3",
   "language": "python",
   "name": "python3"
  },
  "language_info": {
   "codemirror_mode": {
    "name": "ipython",
    "version": 3
   },
   "file_extension": ".py",
   "mimetype": "text/x-python",
   "name": "python",
   "nbconvert_exporter": "python",
   "pygments_lexer": "ipython3",
   "version": "3.9.4"
  }
 },
 "nbformat": 4,
 "nbformat_minor": 4
}
